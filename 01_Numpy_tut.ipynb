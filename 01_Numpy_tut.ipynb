{
 "cells": [
  {
   "cell_type": "code",
   "execution_count": 77,
   "metadata": {},
   "outputs": [],
   "source": [
    "import numpy as np"
   ]
  },
  {
   "cell_type": "code",
   "execution_count": 78,
   "metadata": {},
   "outputs": [],
   "source": [
    "cvalue = [20.1,20.8,30,45.6,78]"
   ]
  },
  {
   "cell_type": "code",
   "execution_count": 79,
   "metadata": {},
   "outputs": [
    {
     "name": "stdout",
     "output_type": "stream",
     "text": [
      "[20.1 20.8 30.  45.6 78. ]\n"
     ]
    }
   ],
   "source": [
    "c = np.array(cvalue)\n",
    "print(c)"
   ]
  },
  {
   "cell_type": "code",
   "execution_count": 81,
   "metadata": {},
   "outputs": [
    {
     "name": "stdout",
     "output_type": "stream",
     "text": [
      "float64\n",
      "<class 'list'>\n"
     ]
    }
   ],
   "source": [
    "print(c.dtype) #int arr[] = [1,2]\n",
    "print(type(cvalue))"
   ]
  },
  {
   "cell_type": "code",
   "execution_count": 84,
   "metadata": {},
   "outputs": [
    {
     "name": "stdout",
     "output_type": "stream",
     "text": [
      "[68.18, 69.44, 86.0, 114.08000000000001, 172.4]\n",
      "[ 68.18  69.44  86.   114.08 172.4 ]\n"
     ]
    }
   ],
   "source": [
    "#converting the values of celcius to fahrenhrit \n",
    "\n",
    "#in python\n",
    "fvalue = [x*9/5 + 32 for x in cvalue]\n",
    "print(fvalue)\n",
    "\n",
    "#in numpy \n",
    "f = c*9/5 + 32\n",
    "print(f)"
   ]
  },
  {
   "cell_type": "markdown",
   "metadata": {},
   "source": [
    "<img src=\"list_structure.png\" style=\"float: left; height: 16em; margin-right: 1%; margin-bottom: 0.5em;\">\n",
    "<img src=\"array_structure.png\" style=\"float: right; height: 14em; margin-right: 1%; margin-bottom: 0.5em;\">"
   ]
  },
  {
   "cell_type": "code",
   "execution_count": 87,
   "metadata": {},
   "outputs": [
    {
     "name": "stdout",
     "output_type": "stream",
     "text": [
      "Size without the size of the elements:  88\n",
      "Size of all the elements:  84\n",
      "Total size of list, including elements:  172\n",
      "64\n",
      "\n",
      " The size of numpy array 108\n",
      "96\n"
     ]
    }
   ],
   "source": [
    "#memory comparison\n",
    "from sys import getsizeof \n",
    "lst = [24, 12, 57]\n",
    "size_of_list_object = getsizeof(lst)   \n",
    "size_of_elements = len(lst) * getsizeof(lst[0]) \n",
    "total_list_size = size_of_list_object + size_of_elements\n",
    "print(\"Size without the size of the elements: \", size_of_list_object)\n",
    "print(\"Size of all the elements: \", size_of_elements)\n",
    "print(\"Total size of list, including elements: \", total_list_size)\n",
    "# li = []\n",
    "# print(getsizeof(li))\n",
    "\n",
    "#for numpy array\n",
    "a = np.array([24, 12, 57])\n",
    "print(\"\\n The size of numpy array\", getsizeof(a))\n",
    "# print(getsizeof(np.array([])))"
   ]
  },
  {
   "cell_type": "code",
   "execution_count": 91,
   "metadata": {},
   "outputs": [
    {
     "name": "stdout",
     "output_type": "stream",
     "text": [
      "0.05831503868103027 0.0003654956817626953\n",
      "Numpy is in this example 159.5505544683627 faster!\n"
     ]
    }
   ],
   "source": [
    "#Time comparison\n",
    "import time\n",
    "\n",
    "size_of_vector = 100000\n",
    "def pure_python():\n",
    "    t1 = time.time()\n",
    "    X = range(size_of_vector)\n",
    "    Y = range(size_of_vector)\n",
    "    Z = [X[i] + Y[i] for i in range(size_of_vector) ]\n",
    "    return time.time() - t1\n",
    "\n",
    "def numpy_version():\n",
    "    t1 = time.time()\n",
    "    X = np.arange(size_of_vector)\n",
    "    Y = np.arange(size_of_vector)\n",
    "    Z = X + Y\n",
    "    return time.time() - t1\n",
    "\n",
    "t1 = pure_python()\n",
    "t2 = numpy_version()\n",
    "print(t1, t2)\n",
    "print(\"Numpy is in this example \" + str(t1/t2) + \" faster!\")"
   ]
  },
  {
   "cell_type": "code",
   "execution_count": 99,
   "metadata": {},
   "outputs": [
    {
     "name": "stdout",
     "output_type": "stream",
     "text": [
      "[0 1 2 3 4 5 6 7]\n",
      "[2. 4. 6.]\n",
      "[2.         2.12244898 2.24489796 2.36734694 2.48979592 2.6122449\n",
      " 2.73469388 2.85714286 2.97959184 3.10204082 3.2244898  3.34693878\n",
      " 3.46938776 3.59183673 3.71428571 3.83673469 3.95918367 4.08163265\n",
      " 4.20408163 4.32653061 4.44897959 4.57142857 4.69387755 4.81632653\n",
      " 4.93877551 5.06122449 5.18367347 5.30612245 5.42857143 5.55102041\n",
      " 5.67346939 5.79591837 5.91836735 6.04081633 6.16326531 6.28571429\n",
      " 6.40816327 6.53061224 6.65306122 6.7755102  6.89795918 7.02040816\n",
      " 7.14285714 7.26530612 7.3877551  7.51020408 7.63265306 7.75510204\n",
      " 7.87755102 8.        ]\n",
      "0.12244897959183673\n"
     ]
    }
   ],
   "source": [
    "#creation of arrays with evenly spaced values\n",
    "# arange([start,] stop[, step], [, dtype=None])\n",
    "\n",
    "arr1 = np.arange(8)\n",
    "print(arr1)\n",
    "\n",
    "# linspace(start, stop, num=50, endpoint=True, retstep=False)\n",
    "\n",
    "arr2 = np.linspace(2,8,3, endpoint=False)\n",
    "print(arr2)\n",
    "\n",
    "#return step\n",
    "samples, spacing = np.linspace(2,8,retstep=True)\n",
    "print(samples)\n",
    "print(spacing)"
   ]
  },
  {
   "cell_type": "code",
   "execution_count": 108,
   "metadata": {},
   "outputs": [
    {
     "name": "stdout",
     "output_type": "stream",
     "text": [
      "0\n",
      "()\n",
      "1\n",
      "(2,)\n",
      "2\n",
      "(2, 4)\n",
      "3\n",
      "(3, 2, 3)\n"
     ]
    }
   ],
   "source": [
    "#Dimensional array in numpy\n",
    "\n",
    "# scaler (zero dimension)\n",
    "n = np.array(5)\n",
    "print(np.ndim(n))\n",
    "print(np.shape(n))\n",
    "\n",
    "# vector (1-D)\n",
    "n = np.array([2,3])\n",
    "print(np.ndim(n))\n",
    "print(np.shape(n))\n",
    "\n",
    "# # matrics (2 or more dim)\n",
    "n = np.array([[2,3,4,5],\n",
    "              [3,4,7,9]])\n",
    "print(np.ndim(n))\n",
    "print(np.shape(n))\n",
    "\n",
    "n = np.array([\n",
    "              [[2,3,4],[4,5,6]],\n",
    "              [[3,4,8],[9,8,5]],\n",
    "              [[9,0,2],[1,2,1]]\n",
    "            ])\n",
    "print(np.ndim(n))\n",
    "print(np.shape(n))"
   ]
  },
  {
   "cell_type": "code",
   "execution_count": 112,
   "metadata": {},
   "outputs": [
    {
     "name": "stdout",
     "output_type": "stream",
     "text": [
      "-7.8\n",
      "3.4\n",
      "[ 1.1 -7.8 -0.7]\n",
      "[3.4 1.1 4.1]\n"
     ]
    }
   ],
   "source": [
    "#indexing\n",
    "A = np.array([ [3.4, 8.7, 9.9], \n",
    "               [1.1, -7.8, -0.7],\n",
    "               [4.1, 12.3, 4.8]])\n",
    "\n",
    "#print an element\n",
    "print(A[1][1])\n",
    "print(A[0,0])\n",
    "\n",
    "# print entrire row\n",
    "print(A[1,:])\n",
    "\n",
    "# print entire column\n",
    "print(A[:,0])"
   ]
  },
  {
   "cell_type": "code",
   "execution_count": 114,
   "metadata": {},
   "outputs": [
    {
     "name": "stdout",
     "output_type": "stream",
     "text": [
      "[20  3 40]\n"
     ]
    }
   ],
   "source": [
    "# Slicing\n",
    "\n",
    "# A[start:stop:step]\n",
    "S = np.array([0, 1, 20, 3, 40, 5, 6, 7, 8, 9])\n",
    "print(S[2:5])"
   ]
  },
  {
   "cell_type": "code",
   "execution_count": 116,
   "metadata": {},
   "outputs": [],
   "source": [
    "A = np.array([\n",
    "[11, 12, 13, 14, 15],\n",
    "[21, 22, 23, 24, 25],\n",
    "[31, 32, 33, 34, 35],\n",
    "[41, 42, 43, 44, 45],\n",
    "[51, 52, 53, 54, 55]])"
   ]
  },
  {
   "cell_type": "markdown",
   "metadata": {},
   "source": [
    "<img src=\"slicing1.png\",style=\"float: left; height: 15em; width:13em; margin-right: 1%; margin-bottom: 0.5em;\">\n",
    "<img src=\"slicing2.png\",style=\"float: left; height: 15em; width:13em; margin-right: 1%; margin-bottom: 0.5em;\">\n",
    "<img src=\"slicing3.png\",style=\"float: left; height: 15em; width:13em; margin-right: 1%; margin-bottom: 0.5em;\">\n",
    "<img src=\"slicing4.png\",style=\"float: left; height: 15em; width:13em; margin-right: 1%; margin-bottom: 0.5em;\">\n",
    "<img src=\"slicing5.png\",style=\"float: left; height: 15em; width:13em; margin-right: 1%; margin-bottom: 0.5em;\">"
   ]
  },
  {
   "cell_type": "code",
   "execution_count": 126,
   "metadata": {},
   "outputs": [
    {
     "name": "stdout",
     "output_type": "stream",
     "text": [
      "[[11 13 15]\n",
      " [31 33 35]]\n"
     ]
    }
   ],
   "source": [
    "#exercise\n",
    "# print(A[0:3,2:])\n",
    "# print(A[3:,:])\n",
    "# print(A[:,-1])\n",
    "print(A[0:-1:2,0::2])"
   ]
  },
  {
   "cell_type": "code",
   "execution_count": 128,
   "metadata": {},
   "outputs": [
    {
     "name": "stdout",
     "output_type": "stream",
     "text": [
      "[2, 3, 4, 56, 7, 9]\n"
     ]
    }
   ],
   "source": [
    "li  = [2,3,4,56,7,9]\n",
    "s = li[1:3]\n",
    "s[0] = 767\n",
    "print(li)"
   ]
  },
  {
   "cell_type": "code",
   "execution_count": 129,
   "metadata": {},
   "outputs": [
    {
     "name": "stdout",
     "output_type": "stream",
     "text": [
      "[ 0  1 22  3  4  5  6  7  8  9]\n"
     ]
    }
   ],
   "source": [
    "A = np.array([0, 1, 2, 3, 4, 5, 6, 7, 8, 9])\n",
    "S = A[2:6]\n",
    "S[0] = 22\n",
    "print(A)"
   ]
  },
  {
   "cell_type": "code",
   "execution_count": 130,
   "metadata": {},
   "outputs": [
    {
     "data": {
      "text/plain": [
       "True"
      ]
     },
     "execution_count": 130,
     "metadata": {},
     "output_type": "execute_result"
    }
   ],
   "source": [
    "np.may_share_memory(A, S)"
   ]
  },
  {
   "cell_type": "code",
   "execution_count": 134,
   "metadata": {},
   "outputs": [
    {
     "name": "stdout",
     "output_type": "stream",
     "text": [
      "True\n",
      "[[ 0  1 22  3  4]\n",
      " [ 5  6  7  8  9]]\n",
      "[98  1 22  3  4  5  6  7  8  9]\n"
     ]
    }
   ],
   "source": [
    "B = A.reshape(2, 5)\n",
    "print(np.may_share_memory(A,B))\n",
    "print(B)\n",
    "B[0,0] = 98\n",
    "print(A)"
   ]
  },
  {
   "cell_type": "code",
   "execution_count": 138,
   "metadata": {},
   "outputs": [
    {
     "name": "stdout",
     "output_type": "stream",
     "text": [
      "[[1. 1. 1.]\n",
      " [1. 1. 1.]]\n",
      "[[1 1 1 1]\n",
      " [1 1 1 1]\n",
      " [1 1 1 1]]\n"
     ]
    }
   ],
   "source": [
    "# Creating array of ones, zero and empty\n",
    "\n",
    "E = np.ones([2,3])\n",
    "print(E)\n",
    "F = np.ones((3,4),dtype=int)\n",
    "print(F)"
   ]
  },
  {
   "cell_type": "code",
   "execution_count": 139,
   "metadata": {},
   "outputs": [
    {
     "name": "stdout",
     "output_type": "stream",
     "text": [
      "[[0. 0. 0. 0.]\n",
      " [0. 0. 0. 0.]]\n"
     ]
    }
   ],
   "source": [
    "Z = np.zeros((2,4))\n",
    "print(Z)"
   ]
  },
  {
   "cell_type": "code",
   "execution_count": 141,
   "metadata": {},
   "outputs": [
    {
     "name": "stdout",
     "output_type": "stream",
     "text": [
      "[[1 1 1 1 1]\n",
      " [1 1 1 1 1]]\n",
      "[[0 0 0 0 0]\n",
      " [0 0 0 0 0]]\n"
     ]
    }
   ],
   "source": [
    "x = np.array([[2,5,18,14,4],[2,5,18,14,4]])\n",
    "E = np.ones_like(x)\n",
    "print(E)\n",
    "Z = np.zeros_like(x)\n",
    "print(Z)"
   ]
  },
  {
   "cell_type": "code",
   "execution_count": 154,
   "metadata": {},
   "outputs": [
    {
     "data": {
      "text/plain": [
       "array([[0., 0., 0., 0.],\n",
       "       [0., 0., 0., 0.]])"
      ]
     },
     "execution_count": 154,
     "metadata": {},
     "output_type": "execute_result"
    }
   ],
   "source": [
    "np.empty((2, 4))"
   ]
  },
  {
   "cell_type": "code",
   "execution_count": 156,
   "metadata": {},
   "outputs": [
    {
     "name": "stdout",
     "output_type": "stream",
     "text": [
      "[[1001   22   12]\n",
      " [  44   53   66]]\n",
      "[[42 22 12]\n",
      " [44 53 66]]\n",
      "[[42 22 12]\n",
      " [44 53 66]]\n"
     ]
    }
   ],
   "source": [
    "#copying an array\n",
    "\n",
    "x = np.array([[42,22,12],[44,53,66]])\n",
    "y = x.copy()\n",
    "z = np.copy(x)\n",
    "x[0,0] = 1001\n",
    "print(x)\n",
    "print(y)\n",
    "print(z)"
   ]
  },
  {
   "cell_type": "code",
   "execution_count": 162,
   "metadata": {},
   "outputs": [
    {
     "name": "stdout",
     "output_type": "stream",
     "text": [
      "[[1 0 0 0]\n",
      " [0 1 0 0]\n",
      " [0 0 1 0]\n",
      " [0 0 0 1]]\n",
      "\n",
      "\n",
      "[[1 0 0 0]\n",
      " [0 1 0 0]\n",
      " [0 0 1 0]\n",
      " [0 0 0 1]\n",
      " [0 0 0 0]]\n"
     ]
    }
   ],
   "source": [
    "# identity array\n",
    "#  1) indentity funtion\n",
    "\n",
    "a = np.identity(4,dtype =int)\n",
    "print(a)\n",
    "\n",
    "print(\"\\n\")\n",
    "# 2) eye function\n",
    "# eye(N, M=None, k=0, dtype=float)\n",
    "b = np.eye(5, 4, k=0, dtype=int)\n",
    "print(b)"
   ]
  },
  {
   "cell_type": "code",
   "execution_count": null,
   "metadata": {},
   "outputs": [],
   "source": []
  }
 ],
 "metadata": {
  "kernelspec": {
   "display_name": "Python 3",
   "language": "python",
   "name": "python3"
  },
  "language_info": {
   "codemirror_mode": {
    "name": "ipython",
    "version": 3
   },
   "file_extension": ".py",
   "mimetype": "text/x-python",
   "name": "python",
   "nbconvert_exporter": "python",
   "pygments_lexer": "ipython3",
   "version": "3.6.4"
  }
 },
 "nbformat": 4,
 "nbformat_minor": 2
}
