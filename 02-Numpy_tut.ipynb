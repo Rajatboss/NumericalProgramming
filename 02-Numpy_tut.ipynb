{
 "cells": [
  {
   "cell_type": "markdown",
   "metadata": {},
   "source": [
    "# dtype\n",
    "<img src=\"europe_data.png\" style=\"height:20em\">"
   ]
  },
  {
   "cell_type": "code",
   "execution_count": 19,
   "metadata": {},
   "outputs": [
    {
     "name": "stdout",
     "output_type": "stream",
     "text": [
      "int16\n",
      "[[ 3  8  9]\n",
      " [ 1 -7  0]\n",
      " [ 4 12  4]]\n"
     ]
    }
   ],
   "source": [
    "import numpy as np\n",
    "i16 = np.dtype(np.int16)\n",
    "print(i16)\n",
    "lst = [ [3.4, 8.7, 9.9], \n",
    "        [1.1, -7.8, -0.7],\n",
    "        [4.1, 12.3, 4.8] ]\n",
    "A = np.array(lst, dtype=i16)\n",
    "print(A)"
   ]
  },
  {
   "cell_type": "code",
   "execution_count": 23,
   "metadata": {},
   "outputs": [
    {
     "name": "stdout",
     "output_type": "stream",
     "text": [
      "[(393,) (337,) (256,)]\n",
      "\n",
      "The internal representation:\n",
      "array([(393,), (337,), (256,)], dtype=[('density', '<i4')])\n"
     ]
    }
   ],
   "source": [
    "dt = np.dtype([('density', np.int32)])\n",
    "x = np.array([(393,), (337,), (256,)],\n",
    "             dtype=dt)\n",
    "print(x)\n",
    "print(\"\\nThe internal representation:\")\n",
    "print(repr(x))"
   ]
  },
  {
   "cell_type": "code",
   "execution_count": 26,
   "metadata": {},
   "outputs": [
    {
     "name": "stdout",
     "output_type": "stream",
     "text": [
      "[393 337 256]\n"
     ]
    }
   ],
   "source": [
    "print(x['density'])"
   ]
  },
  {
   "cell_type": "code",
   "execution_count": 27,
   "metadata": {},
   "outputs": [
    {
     "name": "stdout",
     "output_type": "stream",
     "text": [
      "[(b'Netherlands', 393,  41526, 16928800)\n",
      " (b'Belgium', 337,  30510, 11007020)\n",
      " (b'United Kingdom', 256, 243610, 62262000)\n",
      " (b'Germany', 233, 357021, 81799600)]\n"
     ]
    }
   ],
   "source": [
    "dt = np.dtype([('country', 'S20'), ('density', 'i4'), ('area', 'i4'), ('population', 'i4')])\n",
    "population_table = np.array([\n",
    "    ('Netherlands', 393, 41526, 16928800),\n",
    "    ('Belgium', 337, 30510, 11007020),\n",
    "    ('United Kingdom', 256, 243610, 62262000),\n",
    "    ('Germany', 233, 357021, 81799600),\n",
    "    ('Liechtenstein', 205, 160, 32842),\n",
    "    ('Italy', 192, 301230, 59715625),\n",
    "    ('Switzerland', 177, 41290, 7301994),\n",
    "    ('Luxembourg', 173, 2586, 512000),\n",
    "    ('France', 111, 547030, 63601002),\n",
    "    ('Austria', 97, 83858, 8169929),\n",
    "    ('Greece', 81, 131940, 11606813),\n",
    "    ('Ireland', 65, 70280, 4581269),\n",
    "    ('Sweden', 20, 449964, 9515744),\n",
    "    ('Finland', 16, 338424, 5410233),\n",
    "    ('Norway', 13, 385252, 5033675)],\n",
    "    dtype=dt)\n",
    "print(population_table[:4])"
   ]
  },
  {
   "cell_type": "code",
   "execution_count": 28,
   "metadata": {},
   "outputs": [
    {
     "name": "stdout",
     "output_type": "stream",
     "text": [
      "[393 337 256 233 205 192 177 173 111  97  81  65  20  16  13]\n",
      "[b'Netherlands' b'Belgium' b'United Kingdom' b'Germany' b'Liechtenstein'\n",
      " b'Italy' b'Switzerland' b'Luxembourg' b'France' b'Austria' b'Greece'\n",
      " b'Ireland' b'Sweden' b'Finland' b'Norway']\n",
      "[ 41526  30510 243610 357021    160 301230  41290   2586 547030  83858\n",
      " 131940  70280 449964 338424 385252]\n"
     ]
    }
   ],
   "source": [
    "print(population_table['density'])\n",
    "print(population_table['country'])\n",
    "print(population_table['area'])"
   ]
  },
  {
   "cell_type": "code",
   "execution_count": 43,
   "metadata": {},
   "outputs": [],
   "source": [
    "np.savetxt(\"population_table.csv\",\n",
    "           population_table,\n",
    "           fmt=\"%s,%d,%d,%d\",           \n",
    "           delimiter=\"*\")"
   ]
  },
  {
   "cell_type": "code",
   "execution_count": 46,
   "metadata": {},
   "outputs": [
    {
     "name": "stdout",
     "output_type": "stream",
     "text": [
      "[(\"b'Netherlands'\", 393,  41526, 16928800)\n",
      " (\"b'Belgium'\", 337,  30510, 11007020)\n",
      " (\"b'United Kingdom'\", 256, 243610, 62262000)\n",
      " (\"b'Germany'\", 233, 357021, 81799600)\n",
      " (\"b'Liechtenstein'\", 205,    160,    32842)\n",
      " (\"b'Italy'\", 192, 301230, 59715625)\n",
      " (\"b'Switzerland'\", 177,  41290,  7301994)\n",
      " (\"b'Luxembourg'\", 173,   2586,   512000)\n",
      " (\"b'France'\", 111, 547030, 63601002)\n",
      " (\"b'Austria'\",  97,  83858,  8169929)\n",
      " (\"b'Greece'\",  81, 131940, 11606813)\n",
      " (\"b'Ireland'\",  65,  70280,  4581269)\n",
      " (\"b'Sweden'\",  20, 449964,  9515744)\n",
      " (\"b'Finland'\",  16, 338424,  5410233)\n",
      " (\"b'Norway'\",  13, 385252,  5033675)]\n"
     ]
    }
   ],
   "source": [
    "dt = np.dtype([('country', np.unicode, 20), ('density', 'i4'), ('area', 'i4'), ('population', 'i4')])\n",
    "x = np.genfromtxt(\"population_table.csv\",\n",
    "               dtype=dt,\n",
    "               delimiter=\",\")\n",
    "print(x)"
   ]
  },
  {
   "cell_type": "markdown",
   "metadata": {},
   "source": [
    "# numerical operation in numpy arrays"
   ]
  },
  {
   "cell_type": "code",
   "execution_count": 47,
   "metadata": {},
   "outputs": [
    {
     "name": "stdout",
     "output_type": "stream",
     "text": [
      "[ 4.    5.    9.9   5.3   8.9   2.11 12.3  14.9 ]\n",
      "[ 8.8   11.    21.78  11.66  19.58   4.642 27.06  32.78 ]\n",
      "[ 2.62  3.62  8.52  3.92  7.52  0.73 10.92 13.52]\n",
      "[ 16.      25.      98.01    28.09    79.21     4.4521 151.29   222.01  ]\n",
      "[ 8.         11.18033989 31.14962279 12.2015163  26.55125232  3.06495204\n",
      " 43.13776768 57.51477202]\n"
     ]
    }
   ],
   "source": [
    "# using scalers\n",
    "import numpy as np\n",
    "lst = [2,3, 7.9, 3.3, 6.9, 0.11, 10.3, 12.9]\n",
    "v = np.array(lst)\n",
    "v = v + 2\n",
    "print(v)\n",
    "\n",
    "print(v * 2.2)\n",
    "\n",
    "print(v - 1.38)\n",
    "\n",
    "print(v ** 2)\n",
    "print(v ** 1.5)"
   ]
  },
  {
   "cell_type": "code",
   "execution_count": 48,
   "metadata": {},
   "outputs": [
    {
     "name": "stdout",
     "output_type": "stream",
     "text": [
      "[4, 5, 9.9, 5.3, 8.9, 2.11, 12.3, 14.9]\n",
      "[4, 5, 9.9, 5.3, 8.9, 2.11, 12.3, 14.9]\n"
     ]
    }
   ],
   "source": [
    "# in python list\n",
    "lst = [2,3, 7.9, 3.3, 6.9, 0.11, 10.3, 12.9]\n",
    "res = []\n",
    "for val in lst:\n",
    "    res.append(val + 2)\n",
    "print(res)\n",
    "\n",
    "res = [ val + 2 for val in lst]\n",
    "print(res)"
   ]
  },
  {
   "cell_type": "code",
   "execution_count": 50,
   "metadata": {},
   "outputs": [
    {
     "name": "stdout",
     "output_type": "stream",
     "text": [
      "Adding to arrays: \n",
      "[[12. 13. 14.]\n",
      " [22. 23. 24.]\n",
      " [32. 33. 34.]]\n",
      "\n",
      "Multiplying two arrays: \n",
      "[[22. 24. 26.]\n",
      " [42. 44. 46.]\n",
      " [62. 64. 66.]]\n"
     ]
    }
   ],
   "source": [
    "# Airthmetic operation in two arrays\n",
    "\n",
    "A = np.array([ [11, 12, 13], [21, 22, 23], [31, 32, 33] ])\n",
    "B = np.ones((3,3))\n",
    "print(\"Adding to arrays: \")\n",
    "print(A + B)\n",
    "print(\"\\nMultiplying two arrays: \")\n",
    "print(A * (B + 1))"
   ]
  },
  {
   "cell_type": "code",
   "execution_count": 51,
   "metadata": {},
   "outputs": [
    {
     "data": {
      "text/plain": [
       "array([[36., 36., 36.],\n",
       "       [66., 66., 66.],\n",
       "       [96., 96., 96.]])"
      ]
     },
     "execution_count": 51,
     "metadata": {},
     "output_type": "execute_result"
    }
   ],
   "source": [
    "# Matrix multiplication\n",
    "np.dot(A, B)"
   ]
  },
  {
   "cell_type": "code",
   "execution_count": 52,
   "metadata": {},
   "outputs": [
    {
     "name": "stdout",
     "output_type": "stream",
     "text": [
      "12\n",
      "1\n",
      "12\n",
      "-14\n"
     ]
    }
   ],
   "source": [
    "print(np.dot(3, 4))\n",
    "x = np.array([3])\n",
    "y = np.array([4])\n",
    "print(x.ndim)\n",
    "print(np.dot(x, y))\n",
    "x = np.array([3, -2])\n",
    "y = np.array([-4, 1])\n",
    "print(np.dot(x, y))"
   ]
  },
  {
   "cell_type": "code",
   "execution_count": 53,
   "metadata": {},
   "outputs": [
    {
     "name": "stdout",
     "output_type": "stream",
     "text": [
      "True 3\n",
      "[[ 7  7 17  4]\n",
      " [ 9  9 19  0]]\n"
     ]
    }
   ],
   "source": [
    "A = np.array([ [1, 2, 3], \n",
    "               [3, 2, 1] ])\n",
    "B = np.array([ [2, 3, 4, -2], \n",
    "               [1, -1, 2, 3],\n",
    "               [1, 2, 3, 0] ])\n",
    "\n",
    "print(A.shape[-1] == B.shape[-2], A.shape[1]) \n",
    "print(np.dot(A, B))"
   ]
  },
  {
   "cell_type": "code",
   "execution_count": null,
   "metadata": {},
   "outputs": [],
   "source": []
  }
 ],
 "metadata": {
  "kernelspec": {
   "display_name": "Python 3",
   "language": "python",
   "name": "python3"
  },
  "language_info": {
   "codemirror_mode": {
    "name": "ipython",
    "version": 3
   },
   "file_extension": ".py",
   "mimetype": "text/x-python",
   "name": "python",
   "nbconvert_exporter": "python",
   "pygments_lexer": "ipython3",
   "version": "3.6.4"
  }
 },
 "nbformat": 4,
 "nbformat_minor": 2
}
