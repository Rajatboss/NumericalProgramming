{
 "cells": [
  {
   "cell_type": "code",
   "execution_count": 14,
   "metadata": {},
   "outputs": [
    {
     "name": "stdout",
     "output_type": "stream",
     "text": [
      "0.26744772515411064\n"
     ]
    }
   ],
   "source": [
    "'''\n",
    "The default pseudo-random number generator of the random module was designed with the focus on modelling and simulation, \n",
    "not on security. So, you shouldn't generate sensitive information such as passwords, secure tokens, session keys and \n",
    "similar things by using random\n",
    "'''\n",
    "import random\n",
    "random_number = random.random()\n",
    "print(random_number)"
   ]
  },
  {
   "cell_type": "code",
   "execution_count": 15,
   "metadata": {},
   "outputs": [
    {
     "name": "stdout",
     "output_type": "stream",
     "text": [
      "0.14382081728949747\n"
     ]
    }
   ],
   "source": [
    "# It uses sources which are provided by the operating system. This will be /dev/urandom on Unix and CryptGenRandom on windows\n",
    "from random import SystemRandom\n",
    "crypto = SystemRandom()\n",
    "print(crypto.random())"
   ]
  },
  {
   "cell_type": "code",
   "execution_count": 18,
   "metadata": {},
   "outputs": [
    {
     "name": "stdout",
     "output_type": "stream",
     "text": [
      "46.670418321471246\n",
      "1.0\n"
     ]
    }
   ],
   "source": [
    "import numpy as np\n",
    "\n",
    "list_of_random_floats = np.random.random(100)\n",
    "# print(list_of_random_floats)\n",
    "sum_of_values = list_of_random_floats.sum()\n",
    "print(sum_of_values)\n",
    "normalized_values = list_of_random_floats / sum_of_values\n",
    "print(normalized_values.sum())"
   ]
  },
  {
   "cell_type": "code",
   "execution_count": 25,
   "metadata": {},
   "outputs": [
    {
     "name": "stdout",
     "output_type": "stream",
     "text": [
      "[5, 1, 3, 4, 1, 3, 6, 6, 5, 4]\n",
      "[4 3 3 2 5 6 6 5 1 2]\n"
     ]
    }
   ],
   "source": [
    "#Random Integers\n",
    "li = [ random.randint(1, 6) for _ in range(10) ]\n",
    "print(li)\n",
    "\n",
    "outcome = np.random.randint(1, 7, size=10)\n",
    "print(outcome)\n",
    "# print(np.dtype(outcome))"
   ]
  },
  {
   "cell_type": "code",
   "execution_count": 29,
   "metadata": {},
   "outputs": [
    {
     "name": "stdout",
     "output_type": "stream",
     "text": [
      "[ 8 24 54 14]\n",
      "\n",
      "\n",
      "[0.5        0.375      0.66666667 3.5       ]\n",
      "\n",
      "\n",
      "[-2 -5 -3  5]\n",
      "\n",
      "\n",
      "[ 6 11 15  9]\n",
      "\n",
      "\n",
      "[ 4  9 36 49]\n",
      "\n",
      "\n",
      "[0 1 0 1]\n"
     ]
    }
   ],
   "source": [
    "A = np.array([2,3,6,7])\n",
    "B = np.array([4,8,9,2])\n",
    "print(A*B)\n",
    "print('\\n')\n",
    "print(A/B)\n",
    "print('\\n')\n",
    "print(A-B)\n",
    "print('\\n')\n",
    "print(A+B)\n",
    "print('\\n')\n",
    "print(A**2)\n",
    "print('\\n')\n",
    "print(A%2)"
   ]
  },
  {
   "cell_type": "code",
   "execution_count": 32,
   "metadata": {},
   "outputs": [
    {
     "name": "stdout",
     "output_type": "stream",
     "text": [
      "Berlin\n",
      "A\n",
      "Augsburg\n"
     ]
    }
   ],
   "source": [
    "possible_destinations = [\"Berlin\", \"Hamburg\", \"Munich\", \n",
    "                         \"Amsterdam\", \"London\", \"Paris\", \n",
    "                         \"Zurich\", \"Heidelberg\", \"Strasbourg\", \n",
    "                         \"Augsburg\", \"Milan\", \"Rome\"]\n",
    "print(random.choice(possible_destinations))\n",
    "print(random.choice(\"RAJAT\"))\n",
    "print(np.random.choice(possible_destinations))"
   ]
  },
  {
   "cell_type": "code",
   "execution_count": 40,
   "metadata": {},
   "outputs": [
    {
     "name": "stdout",
     "output_type": "stream",
     "text": [
      "[['Berlin' 'Milan' 'Augsburg' 'Augsburg']\n",
      " ['Paris' 'Heidelberg' 'Hamburg' 'Zurich']\n",
      " ['Strasbourg' 'Hamburg' 'Amsterdam' 'Amsterdam']\n",
      " ['Amsterdam' 'Amsterdam' 'Amsterdam' 'Berlin']\n",
      " ['Zurich' 'Zurich' 'Hamburg' 'Hamburg']]\n",
      "\n",
      "\n",
      "[['Augsburg' 'London' 'Rome' 'Strasbourg']\n",
      " ['Milan' 'Hamburg' 'Paris' 'Zurich']\n",
      " ['Heidelberg' 'Amsterdam' 'Berlin' 'Munich']]\n"
     ]
    }
   ],
   "source": [
    "print(np.random.choice(possible_destinations, size=(5,4)))\n",
    "print('\\n')\n",
    "# how to prevent multiple occurences\n",
    "print(np.random.choice(possible_destinations, size=(3, 4), replace=False))"
   ]
  },
  {
   "cell_type": "code",
   "execution_count": 41,
   "metadata": {},
   "outputs": [
    {
     "name": "stdout",
     "output_type": "stream",
     "text": [
      "[[0.94083112 0.7381447  0.08434946 0.88457383]\n",
      " [0.23687447 0.74677063 0.63253786 0.24164893]\n",
      " [0.46664698 0.92801381 0.94125485 0.67071678]]\n"
     ]
    }
   ],
   "source": [
    "x = np.random.random_sample((3, 4))\n",
    "print(x)"
   ]
  },
  {
   "cell_type": "code",
   "execution_count": 42,
   "metadata": {},
   "outputs": [
    {
     "name": "stdout",
     "output_type": "stream",
     "text": [
      "[[ 3.61636363  5.52269563  0.86534416 -2.01022478]\n",
      " [-2.2847315  -1.52925811  3.54320793 -0.82505568]\n",
      " [ 2.83442299  1.00730383 -2.1692411   0.26377121]]\n"
     ]
    }
   ],
   "source": [
    "# print continuous distribution\n",
    "a = -3.4\n",
    "b = 5.9\n",
    "A = (b - a) * np.random.random_sample((3, 4)) + a # 0 , 9 = 0+-3.4 , 9-3.4 = -3.4,5.9\n",
    "print(A)"
   ]
  },
  {
   "cell_type": "code",
   "execution_count": 43,
   "metadata": {},
   "outputs": [
    {
     "name": "stdout",
     "output_type": "stream",
     "text": [
      "[26, 39, 4, 1, 14, 20]\n"
     ]
    }
   ],
   "source": [
    "# in random module \n",
    "print(random.sample(range(1, 50), 6))"
   ]
  },
  {
   "cell_type": "code",
   "execution_count": 44,
   "metadata": {},
   "outputs": [
    {
     "data": {
      "text/plain": [
       "'priest'"
      ]
     },
     "execution_count": 44,
     "metadata": {},
     "output_type": "execute_result"
    }
   ],
   "source": [
    "#weighted random choice \n",
    "professions = [\"scientist\", \n",
    "               \"philosopher\", \n",
    "               \"engineer\", \n",
    "               \"priest\", \n",
    "               \"programmer\"]\n",
    "probabilities = [0.2, 0.05, 0.5, 0.15, 0.1]\n",
    "np.random.choice(professions, p=probabilities)"
   ]
  },
  {
   "cell_type": "code",
   "execution_count": 47,
   "metadata": {},
   "outputs": [
    {
     "name": "stdout",
     "output_type": "stream",
     "text": [
      "Counter({'engineer': 510, 'scientist': 201, 'priest': 140, 'programmer': 102, 'philosopher': 47})\n",
      "Counter({'engineer': 0.51, 'scientist': 0.201, 'priest': 0.14, 'programmer': 0.102, 'philosopher': 0.047})\n"
     ]
    }
   ],
   "source": [
    "from collections import Counter\n",
    "c = Counter()\n",
    "for _ in range(1000):\n",
    "    profession = np.random.choice(professions, p=probabilities)\n",
    "    c[profession] += 1\n",
    "    \n",
    "print(c)\n",
    "s = sum(c.values())\n",
    "for el in c:\n",
    "    c[el] /= s\n",
    "print(c)"
   ]
  },
  {
   "cell_type": "code",
   "execution_count": 50,
   "metadata": {},
   "outputs": [
    {
     "name": "stdout",
     "output_type": "stream",
     "text": [
      "5, 2, 1, 10, 5, 7, 7, 9, 6, 3, \n",
      "Let's create the same random numbers again:\n",
      "5, 2, 1, 10, 5, 7, 7, 9, 6, 3, "
     ]
    }
   ],
   "source": [
    "import random\n",
    "random.seed(23)\n",
    "for _ in range(10):\n",
    "    print(random.randint(1, 10), end=\", \")\n",
    "    \n",
    "print(\"\\nLet's create the same random numbers again:\")\n",
    "random.seed(23)\n",
    "for _ in range(10):\n",
    "    print(random.randint(1, 10), end=\", \")"
   ]
  }
 ],
 "metadata": {
  "kernelspec": {
   "display_name": "Python 3",
   "language": "python",
   "name": "python3"
  },
  "language_info": {
   "codemirror_mode": {
    "name": "ipython",
    "version": 3
   },
   "file_extension": ".py",
   "mimetype": "text/x-python",
   "name": "python",
   "nbconvert_exporter": "python",
   "pygments_lexer": "ipython3",
   "version": "3.6.4"
  }
 },
 "nbformat": 4,
 "nbformat_minor": 2
}
